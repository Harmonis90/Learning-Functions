{
 "cells": [
  {
   "cell_type": "code",
   "execution_count": 1,
   "metadata": {},
   "outputs": [],
   "source": [
    "def blackjack(a,b,c):\n",
    "    y = a,b,c\n",
    "    check_11 = 11 in y\n",
    "    c = sum(y)\n",
    "    \n",
    "    #11 is true and sum ><= 21\n",
    "    if check_11 == True and (c <= 21):\n",
    "        c -= 10\n",
    "        return c\n",
    "    elif check_11 == True and (c > 21):s\n",
    "        c -= 10\n",
    "        if (c <= 21):\n",
    "            return c\n",
    "        else:\n",
    "             print('BUST!')\n",
    "    \n",
    "    #no 11\n",
    "    if check_11 == False and (c <= 21):\n",
    "        return c\n",
    "    elif check_11 == False and (c >= 21):\n",
    "        print('BUST!')\n",
    "    "
   ]
  },
  {
   "cell_type": "markdown",
   "metadata": {},
   "source": [
    "Takes in 3 variables or cards (a,b,c) and calculates your score according to blackjack rules.\n",
    "The computer will automaticly revert an 11 to a 1.\n",
    "To test input 3 numbers from 1 to 11 in the () with commas between a,b,c.\n",
    "ex:\n",
    "blackjack(1,11,7)"
   ]
  },
  {
   "cell_type": "code",
   "execution_count": null,
   "metadata": {},
   "outputs": [],
   "source": [
    "blackjack(a,b,c)"
   ]
  }
 ],
 "metadata": {
  "kernelspec": {
   "display_name": "Python 3",
   "language": "python",
   "name": "python3"
  },
  "language_info": {
   "codemirror_mode": {
    "name": "ipython",
    "version": 3
   },
   "file_extension": ".py",
   "mimetype": "text/x-python",
   "name": "python",
   "nbconvert_exporter": "python",
   "pygments_lexer": "ipython3",
   "version": "3.7.3"
  }
 },
 "nbformat": 4,
 "nbformat_minor": 2
}

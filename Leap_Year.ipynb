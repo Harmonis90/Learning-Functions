{
 "cells": [
  {
   "cell_type": "code",
   "execution_count": 1,
   "metadata": {},
   "outputs": [],
   "source": [
    "def is_leap(year):\n",
    "'''A leap year according to the Gregorian calender has 2 main rules with a third conditional rule.\n",
    "    1. The year must be divisible by 4\n",
    "    2. If the year starts a new century it is not a leap year unless:\n",
    "         -The new century year is evenly divisible by 400.'''    \n",
    "    \n",
    "    reg_leap = year % 4 == 0\n",
    "    leap_100 = year % 100 == 0\n",
    "    leap_400 = year % 400 == 0\n",
    "    \n",
    "    if reg_leap == True and leap_100 == False:\n",
    "        return True\n",
    "    elif reg_leap == True and leap_100 == True and leap_400 == False:\n",
    "        return False\n",
    "    elif reg_leap == True and leap_100 == True and leap_400 == True:\n",
    "        return True\n",
    "    else:\n",
    "        return False"
   ]
  },
  {
   "cell_type": "code",
   "execution_count": 5,
   "metadata": {},
   "outputs": [
    {
     "data": {
      "text/plain": [
       "True"
      ]
     },
     "execution_count": 5,
     "metadata": {},
     "output_type": "execute_result"
    }
   ],
   "source": [
    "is_leap(2000)"
   ]
  },
  {
   "cell_type": "code",
   "execution_count": null,
   "metadata": {},
   "outputs": [],
   "source": []
  }
 ],
 "metadata": {
  "kernelspec": {
   "display_name": "Python 3",
   "language": "python",
   "name": "python3"
  },
  "language_info": {
   "codemirror_mode": {
    "name": "ipython",
    "version": 3
   },
   "file_extension": ".py",
   "mimetype": "text/x-python",
   "name": "python",
   "nbconvert_exporter": "python",
   "pygments_lexer": "ipython3",
   "version": "3.7.3"
  }
 },
 "nbformat": 4,
 "nbformat_minor": 2
}
